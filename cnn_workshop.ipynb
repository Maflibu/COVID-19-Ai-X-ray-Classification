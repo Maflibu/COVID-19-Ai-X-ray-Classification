{
  "nbformat": 4,
  "nbformat_minor": 0,
  "metadata": {
    "colab": {
      "provenance": []
    },
    "kernelspec": {
      "name": "python3",
      "display_name": "Python 3"
    },
    "language_info": {
      "name": "python"
    }
  },
  "cells": [
    {
      "cell_type": "code",
      "source": [
        "from google.colab import drive\n",
        "drive.mount('/content/drive')"
      ],
      "metadata": {
        "id": "qvFWn8t8pXPk"
      },
      "execution_count": null,
      "outputs": []
    },
    {
      "cell_type": "code",
      "execution_count": null,
      "metadata": {
        "id": "yhkc8LCf4Ojx"
      },
      "outputs": [],
      "source": [
        "from keras.models import load_model\n",
        "from PIL import Image, ImageOps\n",
        "import numpy as np\n",
        "import os\n",
        "\n",
        "# Disable scientific notation for clarity\n",
        "np.set_printoptions(suppress=True)\n",
        "\n",
        "# Load the model\n",
        "model = load_model(\"/content/drive/MyDrive/cnn_workshop/converted_keras/keras_model.h5\", compile=False)\n",
        "\n",
        "# Load the labels\n",
        "class_names = open(\"/content/drive/MyDrive/cnn_workshop/converted_keras/labels.txt\", \"r\").readlines()\n",
        "\n",
        "# Define the path to the folder containing the images\n",
        "folder_path = \"/content/drive/MyDrive/cnn_workshop/testing_images\"\n",
        "\n",
        "# Iterate over the images in the folder\n",
        "for filename in os.listdir(folder_path):\n",
        "    # Check if the file is an image file\n",
        "    if filename.endswith(\".jpg\") or filename.endswith(\".png\") or filename.endswith(\".jpeg\"):\n",
        "        # Create the array of the right shape to feed into the keras model\n",
        "        # The 'length' or number of images you can put into the array is\n",
        "        # determined by the first position in the shape tuple, in this case 1\n",
        "        data = np.ndarray(shape=(1, 224, 224, 3), dtype=np.float32)\n",
        "\n",
        "        # Load the image using PIL\n",
        "        image_path = os.path.join(folder_path, filename)\n",
        "        image = Image.open(image_path).convert(\"RGB\")\n",
        "\n",
        "        # resizing the image to be at least 224x224 and then cropping from the center\n",
        "        size = (224, 224)\n",
        "        image = ImageOps.fit(image, size, Image.LANCZOS)\n",
        "\n",
        "        # turn the image into a numpy array\n",
        "        image_array = np.asarray(image)\n",
        "\n",
        "        # Normalize the image\n",
        "        normalized_image_array = (image_array.astype(np.float32) / 127.5) - 1\n",
        "\n",
        "        # Load the image into the array\n",
        "        data[0] = normalized_image_array\n",
        "\n",
        "        # Predicts the model\n",
        "        prediction = model.predict(data)\n",
        "        index = np.argmax(prediction)\n",
        "        class_name = class_names[index]\n",
        "        confidence_score = prediction[0][index]\n",
        "\n",
        "        # Print prediction and confidence score for the current image\n",
        "        print(f\"Image: {image_path}\")\n",
        "        print(\"Class:\", class_name[2:])\n",
        "        print(\"Confidence Score:\", confidence_score)\n",
        "        print()\n",
        "\n",
        "        # Show the image\n",
        "        image.show()"
      ]
    }
  ]
}